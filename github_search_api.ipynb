{
 "cells": [
  {
   "cell_type": "code",
   "execution_count": 24,
   "metadata": {
    "ExecuteTime": {
     "end_time": "2018-06-02T20:09:14.509720Z",
     "start_time": "2018-06-02T20:09:14.399008Z"
    }
   },
   "outputs": [],
   "source": [
    "# Import required modules\n",
    "import requests\n",
    "import time\n",
    "import csv"
   ]
  },
  {
   "cell_type": "code",
   "execution_count": 25,
   "metadata": {
    "ExecuteTime": {
     "end_time": "2018-06-02T20:09:15.866468Z",
     "start_time": "2018-06-02T20:09:15.863341Z"
    }
   },
   "outputs": [],
   "source": [
    "# Paste your Access token here\n",
    "# To create an access token - https://github.com/settings/tokens\n",
    "token = \"access_token=\" + \"98420d11adbcea106010b8600534aeb8ea7b395b\"\n",
    "\n",
    "# Base API Endpoint\n",
    "base_api_url = 'https://api.github.com/'"
   ]
  },
  {
   "cell_type": "code",
   "execution_count": 26,
   "metadata": {
    "ExecuteTime": {
     "end_time": "2018-06-02T20:09:20.264582Z",
     "start_time": "2018-06-02T20:09:16.999410Z"
    },
    "scrolled": true
   },
   "outputs": [
    {
     "name": "stdout",
     "output_type": "stream",
     "text": [
      "Enter the Search Query to get the Data \n",
      "tensorflow\n",
      "\n",
      " Query entered is tensorflow \n",
      "\n",
      "100\n",
      "\n",
      " Query entered is  100 \n",
      "\n",
      "stars\n",
      "\n",
      " Query entered is  stars \n",
      "\n"
     ]
    }
   ],
   "source": [
    "# Enter multiple word queries with a '+' sign\n",
    "# Ex: machine+learning to search for Machine Learning\n",
    "\n",
    "# Additional headers\n",
    "additional_headers = {'Accept': 'application/vnd.github.mercy-preview+json'}\n",
    "\n",
    "print('Enter the Search Query to get the Data ')\n",
    "\n",
    "query = input()\n",
    "print('\\n Query entered is', query, '\\n')\n",
    "no_of_repo = int(input())\n",
    "print('\\n Query entered is ', no_of_repo, '\\n')\n",
    "sort_type = input()\n",
    "print('\\n Query entered is ', sort_type, '\\n')\n",
    "\n",
    "search_final_url = base_api_url + 'search/repositories?q=' + query + '&sort=' + sort_type + '&' + token\n"
   ]
  },
  {
   "cell_type": "code",
   "execution_count": 27,
   "metadata": {},
   "outputs": [
    {
     "name": "stdout",
     "output_type": "stream",
     "text": [
      "https://api.github.com/search/repositories?q=tensorflow&sort=stars&access_token=98420d11adbcea106010b8600534aeb8ea7b395b\n"
     ]
    }
   ],
   "source": [
    "print(search_final_url)"
   ]
  },
  {
   "cell_type": "code",
   "execution_count": 28,
   "metadata": {
    "ExecuteTime": {
     "end_time": "2018-06-02T20:09:22.904005Z",
     "start_time": "2018-06-02T20:09:22.900182Z"
    },
    "scrolled": false
   },
   "outputs": [],
   "source": [
    "# A CSV file containting the data would be saved with the name as the query\n",
    "# Ex: machine+learning.csv\n",
    "filename = query + '.csv'\n",
    "\n",
    "# Create a CSV file or clear the existing one with the same name\n",
    "with open(filename, 'w', newline='') as csvfile:\n",
    "    write_to_csv = csv.writer(csvfile, delimiter='|')"
   ]
  },
  {
   "cell_type": "code",
   "execution_count": 29,
   "metadata": {},
   "outputs": [],
   "source": [
    "import math\n",
    "pages = int(math.ceil(no_of_repo/30.0))\n"
   ]
  },
  {
   "cell_type": "code",
   "execution_count": 31,
   "metadata": {
    "ExecuteTime": {
     "end_time": "2018-06-02T20:15:31.673898Z",
     "start_time": "2018-06-02T20:14:52.565406Z"
    }
   },
   "outputs": [
    {
     "name": "stdout",
     "output_type": "stream",
     "text": [
      "Repo Name =  tensorflow \tDescription Computation using data flow graphs for scalable machine learning \tStars =  102851 \tWatchers =  102851 \tForks =  64293 \tOpen Issues =  1642 \tPrimary Language =  C++ \tRepo Languages = {'C++': 48.13, 'Python': 40.9, 'HTML': 5.15, 'Jupyter Notebook': 2.43, 'Go': 1.27, 'Java': 0.84, 'Shell': 0.48, 'C': 0.33, 'CMake': 0.23, 'Objective-C++': 0.1, 'Makefile': 0.05, 'PureBasic': 0.03, 'Objective-C': 0.01, 'Batchfile': 0.01, 'Perl': 0.01, 'Smarty': 0.01, 'LLVM': 0.01, 'PHP': 0.0, 'Ruby': 0.0} \tRepo Score 153.80096\n",
      "==========\n",
      "Repo Name =  models \tDescription Models and examples built with TensorFlow \tStars =  36897 \tWatchers =  36897 \tForks =  21402 \tOpen Issues =  1002 \tPrimary Language =  Python \tRepo Languages = {'Python': 70.14, 'Jupyter Notebook': 17.77, 'C++': 10.05, 'HTML': 0.94, 'Shell': 0.85, 'JavaScript': 0.21, 'Makefile': 0.03, 'GLSL': 0.01} \tRepo Score 99.673256\n",
      "==========\n",
      "Repo Name =  keras \tDescription Deep Learning for humans \tStars =  30603 \tWatchers =  30603 \tForks =  11444 \tOpen Issues =  1546 \tPrimary Language =  Python \tRepo Languages = {'Python': 99.96, 'Makefile': 0.04} \tRepo Score 55.74721\n",
      "==========\n",
      "Repo Name =  TensorFlow-Examples \tDescription TensorFlow Tutorial and Examples for Beginners with Latest APIs \tStars =  22969 \tWatchers =  22969 \tForks =  8451 \tOpen Issues =  127 \tPrimary Language =  Jupyter Notebook \tRepo Languages = {'Jupyter Notebook': 99.28, 'Python': 0.72} \tRepo Score 104.60722\n",
      "==========\n",
      "Repo Name =  gold-miner \tDescription 🥇掘金翻译计划，可能是世界最大最好的英译中技术社区，最懂读者和译者的翻译平台： \tStars =  14552 \tWatchers =  14552 \tForks =  2552 \tOpen Issues =  34 \tPrimary Language =  M \tRepo Languages = {'M': 100.0} \tRepo Score 39.27232\n",
      "==========\n",
      "Repo Name =  data-science-ipython-notebooks \tDescription Data science Python notebooks: Deep learning (TensorFlow, Theano, Caffe, Keras), scikit-learn, Kaggle, big data (Spark, Hadoop MapReduce, HDFS), matplotlib, pandas, NumPy, SciPy, Python essentials, AWS, and various command lines. \tStars =  12833 \tWatchers =  12833 \tForks =  3722 \tOpen Issues =  4 \tPrimary Language =  Python \tRepo Languages = {'Python': 99.99, 'CSS': 0.01, 'Makefile': 0.0} \tRepo Score 34.09599\n",
      "==========\n",
      "Repo Name =  awesome-tensorflow \tDescription TensorFlow - A curated list of dedicated resources http://tensorflow.org \tStars =  11892 \tWatchers =  11892 \tForks =  2011 \tOpen Issues =  22 \tPrimary Language =  None \tRepo Languages = {} \tRepo Score 97.69148\n",
      "==========\n",
      "Repo Name =  js-xlsx \tDescription :green_book: SheetJS Community Edition -- Spreadsheet Parser and Writer \tStars =  10841 \tWatchers =  10841 \tForks =  2369 \tOpen Issues =  94 \tPrimary Language =  JavaScript \tRepo Languages = {'JavaScript': 98.31, 'HTML': 0.64, 'Makefile': 0.37, 'TypeScript': 0.32, 'CSS': 0.21, 'Shell': 0.1, 'Batchfile': 0.04} \tRepo Score 23.689318\n",
      "==========\n",
      "Repo Name =  tensorflow-zh \tDescription 谷歌全新开源人工智能系统TensorFlow官方文档中文版 \tStars =  8883 \tWatchers =  8883 \tForks =  3602 \tOpen Issues =  27 \tPrimary Language =  TeX \tRepo Languages = {'TeX': 95.01, 'Python': 4.37, 'C++': 0.59, 'HTML': 0.04} \tRepo Score 100.96725\n",
      "==========\n",
      "Repo Name =  tflearn \tDescription Deep learning library featuring a higher-level API for TensorFlow. \tStars =  8176 \tWatchers =  8176 \tForks =  2031 \tOpen Issues =  517 \tPrimary Language =  Python \tRepo Languages = {'Python': 100.0} \tRepo Score 70.66825\n",
      "==========\n",
      "Repo Name =  handson-ml \tDescription A series of Jupyter notebooks that walk you through the fundamentals of Machine Learning and Deep Learning in python using Scikit-Learn and TensorFlow. \tStars =  7920 \tWatchers =  7920 \tForks =  4068 \tOpen Issues =  33 \tPrimary Language =  Jupyter Notebook \tRepo Languages = {'Jupyter Notebook': 99.82, 'Python': 0.18, 'Shell': 0.0, 'Makefile': 0.0} \tRepo Score 43.329254\n",
      "==========\n",
      "Repo Name =  EffectiveTensorflow \tDescription TensorFlow tutorials and best practices. \tStars =  7342 \tWatchers =  7342 \tForks =  732 \tOpen Issues =  0 \tPrimary Language =  None \tRepo Languages = {} \tRepo Score 88.12004\n",
      "==========\n",
      "Repo Name =  DeepSpeech \tDescription A TensorFlow implementation of Baidu's DeepSpeech architecture \tStars =  7038 \tWatchers =  7038 \tForks =  1136 \tOpen Issues =  148 \tPrimary Language =  C++ \tRepo Languages = {'C++': 69.72, 'Python': 12.44, 'C': 11.54, 'Shell': 3.99, 'CMake': 0.91, 'Makefile': 0.82, 'HTML': 0.33, 'JavaScript': 0.21, 'Matlab': 0.03} \tRepo Score 66.899445\n",
      "==========\n",
      "Repo Name =  reinforcement-learning \tDescription Implementation of Reinforcement Learning Algorithms. Python, OpenAI Gym, Tensorflow. Exercises and Solutions to accompany Sutton's Book and David Silver's course. \tStars =  6963 \tWatchers =  6963 \tForks =  2345 \tOpen Issues =  64 \tPrimary Language =  Jupyter Notebook \tRepo Languages = {'Jupyter Notebook': 97.08, 'Python': 2.92} \tRepo Score 41.494972\n",
      "==========\n",
      "Repo Name =  sonnet \tDescription TensorFlow-based neural network library \tStars =  6560 \tWatchers =  6560 \tForks =  872 \tOpen Issues =  5 \tPrimary Language =  Python \tRepo Languages = {'Python': 93.11, 'Jupyter Notebook': 6.77, 'Shell': 0.12} \tRepo Score 81.36452\n",
      "==========\n",
      "Repo Name =  stanford-tensorflow-tutorials \tDescription This repository contains code examples for the Stanford's course: TensorFlow for Deep Learning Research.  \tStars =  6527 \tWatchers =  6527 \tForks =  2950 \tOpen Issues =  70 \tPrimary Language =  Python \tRepo Languages = {'Python': 100.0} \tRepo Score 92.98528\n",
      "==========\n",
      "Repo Name =  Mask_RCNN \tDescription Mask R-CNN for object detection and instance segmentation on Keras and TensorFlow \tStars =  6176 \tWatchers =  6176 \tForks =  2367 \tOpen Issues =  343 \tPrimary Language =  Python \tRepo Languages = {'Python': 100.0} \tRepo Score 57.747776\n",
      "==========\n",
      "Repo Name =  fast-style-transfer \tDescription TensorFlow CNN for fast style transfer ⚡🖥🎨🖼 \tStars =  6166 \tWatchers =  6166 \tForks =  1417 \tOpen Issues =  37 \tPrimary Language =  Python \tRepo Languages = {'Python': 99.26, 'Shell': 0.74} \tRepo Score 77.49343\n",
      "==========\n",
      "Repo Name =  TensorFlow-Tutorials \tDescription Simple tutorials using Google's TensorFlow Framework \tStars =  5448 \tWatchers =  5448 \tForks =  1456 \tOpen Issues =  14 \tPrimary Language =  Jupyter Notebook \tRepo Languages = {'Jupyter Notebook': 94.0, 'Python': 5.94, 'Shell': 0.06} \tRepo Score 87.27757\n",
      "==========\n",
      "Repo Name =  tensorflow_tutorials \tDescription From the basics to slightly more interesting applications of Tensorflow \tStars =  4951 \tWatchers =  4951 \tForks =  1046 \tOpen Issues =  12 \tPrimary Language =  Jupyter Notebook \tRepo Languages = {'Jupyter Notebook': 86.69, 'Python': 13.31} \tRepo Score 89.67833\n",
      "==========\n",
      "Repo Name =  facenet \tDescription Face recognition using Tensorflow \tStars =  4844 \tWatchers =  4844 \tForks =  2079 \tOpen Issues =  201 \tPrimary Language =  Python \tRepo Languages = {'Python': 92.81, 'Matlab': 7.19} \tRepo Score 91.94826\n",
      "==========\n",
      "Repo Name =  TensorFlow-Tutorials \tDescription TensorFlow Tutorials with YouTube Videos \tStars =  4468 \tWatchers =  4468 \tForks =  2133 \tOpen Issues =  1 \tPrimary Language =  Jupyter Notebook \tRepo Languages = {'Jupyter Notebook': 99.64, 'Python': 0.36} \tRepo Score 89.33088\n",
      "==========\n",
      "Repo Name =  DCGAN-tensorflow \tDescription A tensorflow implementation of \"Deep Convolutional Generative Adversarial Networks\" \tStars =  4285 \tWatchers =  4285 \tForks =  1706 \tOpen Issues =  119 \tPrimary Language =  JavaScript \tRepo Languages = {'JavaScript': 50.79, 'Python': 23.26, 'HTML': 15.38, 'CSS': 10.56} \tRepo Score 92.72135\n",
      "==========\n",
      "Repo Name =  keras-js \tDescription Run Keras models in the browser, with GPU support using WebGL \tStars =  4122 \tWatchers =  4122 \tForks =  395 \tOpen Issues =  71 \tPrimary Language =  JavaScript \tRepo Languages = {'JavaScript': 96.27, 'GLSL': 2.15, 'HTML': 1.09, 'Python': 0.49} \tRepo Score 40.23384\n",
      "==========\n",
      "Repo Name =  deepo \tDescription A series of Docker images (and their generator) that allows you to quickly set up your deep learning research environment. \tStars =  3947 \tWatchers =  3947 \tForks =  392 \tOpen Issues =  4 \tPrimary Language =  Python \tRepo Languages = {'Python': 81.82, 'Shell': 18.18} \tRepo Score 23.362345\n",
      "==========\n",
      "Repo Name =  tensorlayer \tDescription Deep Learning for Researchers and Engineers \tStars =  3914 \tWatchers =  3914 \tForks =  976 \tOpen Issues =  41 \tPrimary Language =  Python \tRepo Languages = {'Python': 99.83, 'Makefile': 0.1, 'Shell': 0.04, 'Batchfile': 0.03} \tRepo Score 21.65677\n",
      "==========\n"
     ]
    },
    {
     "name": "stdout",
     "output_type": "stream",
     "text": [
      "Repo Name =  TensorFlow-Book \tDescription Accompanying source code for Machine Learning with TensorFlow. Refer to the book for step-by-step explanations. \tStars =  3900 \tWatchers =  3900 \tForks =  965 \tOpen Issues =  14 \tPrimary Language =  Jupyter Notebook \tRepo Languages = {'Jupyter Notebook': 96.38, 'Python': 3.62} \tRepo Score 83.43132\n",
      "==========\n",
      "Repo Name =  neural-style \tDescription Neural style in TensorFlow! :art: \tStars =  3899 \tWatchers =  3899 \tForks =  1146 \tOpen Issues =  0 \tPrimary Language =  Python \tRepo Languages = {'Python': 100.0} \tRepo Score 81.69046\n",
      "==========\n",
      "Repo Name =  kubeflow \tDescription Machine Learning Toolkit for Kubernetes \tStars =  3858 \tWatchers =  3858 \tForks =  479 \tOpen Issues =  206 \tPrimary Language =  Python \tRepo Languages = {'Python': 49.98, 'HTML': 12.53, 'Shell': 11.28, 'Go': 10.44, 'JavaScript': 7.41, 'Makefile': 6.08, 'CSS': 2.28} \tRepo Score 40.760044\n",
      "==========\n",
      "Repo Name =  seq2seq \tDescription A general-purpose encoder-decoder framework for Tensorflow \tStars =  3856 \tWatchers =  3856 \tForks =  868 \tOpen Issues =  163 \tPrimary Language =  Python \tRepo Languages = {'Python': 94.55, 'Shell': 3.05, 'Perl': 1.2, 'JavaScript': 1.01, 'CSS': 0.2} \tRepo Score 63.956898\n",
      "==========\n",
      "Repo Name =  TensorFlow-World \tDescription :earth_americas: Simple and ready-to-use tutorials for TensorFlow \tStars =  3821 \tWatchers =  3821 \tForks =  324 \tOpen Issues =  0 \tPrimary Language =  Python \tRepo Languages = {'Python': 51.66, 'Jupyter Notebook': 47.4, 'Shell': 0.94} \tRepo Score 75.155396\n",
      "==========\n",
      "Repo Name =  tensorflow-wavenet \tDescription A TensorFlow implementation of DeepMind's WaveNet paper \tStars =  3708 \tWatchers =  3708 \tForks =  868 \tOpen Issues =  124 \tPrimary Language =  Python \tRepo Languages = {'Python': 99.55, 'Shell': 0.45} \tRepo Score 87.219345\n",
      "==========\n",
      "Repo Name =  tutorials \tDescription 机器学习相关教程 \tStars =  3646 \tWatchers =  3646 \tForks =  2243 \tOpen Issues =  3 \tPrimary Language =  Python \tRepo Languages = {'Python': 93.11, 'Jupyter Notebook': 6.89} \tRepo Score 37.397583\n",
      "==========\n",
      "Repo Name =  edward \tDescription A probabilistic programming language in TensorFlow. Deep generative models, variational inference. \tStars =  3638 \tWatchers =  3638 \tForks =  652 \tOpen Issues =  179 \tPrimary Language =  Jupyter Notebook \tRepo Languages = {'Jupyter Notebook': 69.93, 'Python': 29.93, 'Makefile': 0.12, 'Smarty': 0.01} \tRepo Score 50.71042\n",
      "==========\n",
      "Repo Name =  learning-to-learn \tDescription Learning to Learn in TensorFlow \tStars =  3503 \tWatchers =  3503 \tForks =  473 \tOpen Issues =  7 \tPrimary Language =  Python \tRepo Languages = {'Python': 100.0} \tRepo Score 75.04937\n",
      "==========\n",
      "Repo Name =  cnn-text-classification-tf \tDescription Convolutional Neural Network for Text Classification in Tensorflow \tStars =  3445 \tWatchers =  3445 \tForks =  1876 \tOpen Issues =  86 \tPrimary Language =  Python \tRepo Languages = {'Python': 100.0} \tRepo Score 67.963486\n",
      "==========\n",
      "Repo Name =  generative-models \tDescription Collection of generative models, e.g. GAN, VAE in Pytorch and Tensorflow. \tStars =  3444 \tWatchers =  3444 \tForks =  1070 \tOpen Issues =  6 \tPrimary Language =  Python \tRepo Languages = {'Python': 100.0} \tRepo Score 52.92546\n",
      "==========\n",
      "Repo Name =  tensorflow_cookbook \tDescription Code for Tensorflow Machine Learning Cookbook \tStars =  3253 \tWatchers =  3253 \tForks =  1527 \tOpen Issues =  15 \tPrimary Language =  Jupyter Notebook \tRepo Languages = {'Jupyter Notebook': 86.63, 'Python': 13.37} \tRepo Score 91.10602\n",
      "==========\n",
      "Repo Name =  skflow \tDescription Simplified interface for TensorFlow (mimicking Scikit Learn) for Deep Learning \tStars =  3175 \tWatchers =  3175 \tForks =  464 \tOpen Issues =  0 \tPrimary Language =  Python \tRepo Languages = {'Python': 89.12, 'Shell': 10.88} \tRepo Score 60.134186\n",
      "==========\n",
      "Repo Name =  darkflow \tDescription Translate darknet to tensorflow. Load trained weights, retrain/fine-tune using tensorflow, export constant graph def to mobile devices \tStars =  3172 \tWatchers =  3172 \tForks =  1074 \tOpen Issues =  375 \tPrimary Language =  Python \tRepo Languages = {'Python': 100.0} \tRepo Score 68.63398\n",
      "==========\n",
      "Repo Name =  pix2pix-tensorflow \tDescription Tensorflow port of Image-to-Image Translation with Conditional Adversarial Nets https://phillipi.github.io/pix2pix/ \tStars =  3137 \tWatchers =  3137 \tForks =  696 \tOpen Issues =  81 \tPrimary Language =  JavaScript \tRepo Languages = {'JavaScript': 87.97, 'Python': 7.84, 'HTML': 4.19} \tRepo Score 80.216965\n",
      "==========\n",
      "Repo Name =  nmt \tDescription TensorFlow Neural Machine Translation Tutorial \tStars =  3070 \tWatchers =  3070 \tForks =  995 \tOpen Issues =  182 \tPrimary Language =  Python \tRepo Languages = {'Python': 96.98, 'Shell': 3.02} \tRepo Score 79.8793\n",
      "==========\n",
      "Repo Name =  dl-docker \tDescription An all-in-one Docker image for deep learning. Contains all the popular DL frameworks (TensorFlow, Theano, Torch, Caffe, etc.) \tStars =  2885 \tWatchers =  2885 \tForks =  666 \tOpen Issues =  54 \tPrimary Language =  Python \tRepo Languages = {'Python': 58.77, 'Shell': 41.23} \tRepo Score 43.506123\n",
      "==========\n",
      "Repo Name =  CapsNet-Tensorflow \tDescription A Tensorflow implementation of CapsNet(Capsules Net) in Hinton's paper Dynamic Routing Between Capsules \tStars =  2867 \tWatchers =  2867 \tForks =  943 \tOpen Issues =  20 \tPrimary Language =  Python \tRepo Languages = {'Python': 98.17, 'R': 1.83} \tRepo Score 82.13675\n",
      "==========\n",
      "Repo Name =  tensorflow-docs \tDescription TensorFlow 官方文档中文版 V1.8 \tStars =  2830 \tWatchers =  2830 \tForks =  314 \tOpen Issues =  2 \tPrimary Language =  None \tRepo Languages = {} \tRepo Score 78.47209\n",
      "==========\n",
      "Repo Name =  horovod \tDescription Distributed training framework for TensorFlow, Keras, and PyTorch. \tStars =  2818 \tWatchers =  2818 \tForks =  382 \tOpen Issues =  78 \tPrimary Language =  C++ \tRepo Languages = {'C++': 67.9, 'Python': 32.1} \tRepo Score 58.62738\n",
      "==========\n",
      "Repo Name =  pipeline \tDescription PipelineAI: Real-Time Enterprise AI Platform \tStars =  2740 \tWatchers =  2740 \tForks =  727 \tOpen Issues =  3 \tPrimary Language =  HTML \tRepo Languages = {'HTML': 82.48, 'Jupyter Notebook': 16.3, 'Python': 0.61, 'Scala': 0.11, 'Shell': 0.11, 'Java': 0.09, 'CSS': 0.08, 'JavaScript': 0.07, 'XSLT': 0.05, 'C++': 0.04, 'Batchfile': 0.04, 'Cuda': 0.01, 'Go': 0.01, 'C': 0.0, 'Makefile': 0.0} \tRepo Score 20.399094\n",
      "==========\n",
      "Repo Name =  keras-rl \tDescription Deep Reinforcement Learning for Keras. \tStars =  2657 \tWatchers =  2657 \tForks =  650 \tOpen Issues =  68 \tPrimary Language =  Python \tRepo Languages = {'Python': 100.0} \tRepo Score 40.268997\n",
      "==========\n",
      "Repo Name =  swift \tDescription Swift for TensorFlow project home page \tStars =  2527 \tWatchers =  2527 \tForks =  184 \tOpen Issues =  10 \tPrimary Language =  None \tRepo Languages = {} \tRepo Score 61.76695\n",
      "==========\n",
      "Repo Name =  NakedTensor \tDescription Bare bone examples of machine learning in TensorFlow \tStars =  2466 \tWatchers =  2466 \tForks =  156 \tOpen Issues =  1 \tPrimary Language =  Python \tRepo Languages = {'Python': 100.0} \tRepo Score 53.354424\n",
      "==========\n",
      "Repo Name =  TensorFlowOnSpark \tDescription TensorFlowOnSpark brings TensorFlow programs onto Apache Spark clusters \tStars =  2448 \tWatchers =  2448 \tForks =  648 \tOpen Issues =  22 \tPrimary Language =  Python \tRepo Languages = {'Python': 78.88, 'Scala': 19.52, 'Shell': 1.6} \tRepo Score 78.79666\n",
      "==========\n",
      "Repo Name =  speech-to-text-wavenet \tDescription Speech-to-Text-WaveNet : End-to-end sentence level English speech recognition based on DeepMind's WaveNet and tensorflow \tStars =  2447 \tWatchers =  2447 \tForks =  491 \tOpen Issues =  63 \tPrimary Language =  Python \tRepo Languages = {'Python': 100.0} \tRepo Score 42.218\n",
      "==========\n",
      "Repo Name =  DeepLearningZeroToAll \tDescription TensorFlow Basic Tutorial Labs \tStars =  2446 \tWatchers =  2446 \tForks =  1362 \tOpen Issues =  16 \tPrimary Language =  Jupyter Notebook \tRepo Languages = {'Jupyter Notebook': 65.31, 'Python': 34.69} \tRepo Score 86.56253\n",
      "==========\n",
      "Repo Name =  tensorflow-generative-model-collections \tDescription Collection of generative models in Tensorflow \tStars =  2405 \tWatchers =  2405 \tForks =  479 \tOpen Issues =  13 \tPrimary Language =  Python \tRepo Languages = {'Python': 100.0} \tRepo Score 76.60449\n",
      "==========\n"
     ]
    },
    {
     "name": "stdout",
     "output_type": "stream",
     "text": [
      "Repo Name =  FastMaskRCNN \tDescription Mask RCNN in TensorFlow  \tStars =  2337 \tWatchers =  2337 \tForks =  886 \tOpen Issues =  137 \tPrimary Language =  Python \tRepo Languages = {'Python': 93.46, 'C++': 2.97, 'C': 2.35, 'Cuda': 1.14, 'Makefile': 0.06, 'Shell': 0.02} \tRepo Score 83.22711\n",
      "==========\n",
      "Repo Name =  easy-tensorflow \tDescription Simple and comprehensive tutorials in TensorFlow \tStars =  2331 \tWatchers =  2331 \tForks =  167 \tOpen Issues =  0 \tPrimary Language =  Python \tRepo Languages = {'Python': 100.0} \tRepo Score 72.95515\n",
      "==========\n",
      "Repo Name =  tensorpack \tDescription A Neural Net Training Interface on TensorFlow \tStars =  2303 \tWatchers =  2303 \tForks =  736 \tOpen Issues =  10 \tPrimary Language =  Python \tRepo Languages = {'Python': 99.79, 'Shell': 0.21} \tRepo Score 70.36194\n",
      "==========\n",
      "Repo Name =  caffe-tensorflow \tDescription Caffe models in TensorFlow \tStars =  2191 \tWatchers =  2191 \tForks =  837 \tOpen Issues =  102 \tPrimary Language =  Python \tRepo Languages = {'Python': 100.0} \tRepo Score 85.33477\n",
      "==========\n",
      "Repo Name =  text_classification \tDescription all kinds of text classificaiton models and more with deep learning \tStars =  2134 \tWatchers =  2134 \tForks =  843 \tOpen Issues =  4 \tPrimary Language =  Python \tRepo Languages = {'Python': 100.0} \tRepo Score 24.87442\n",
      "==========\n",
      "Repo Name =  Tensorflow-Project-Template \tDescription A best practice for tensorflow project template architecture.  \tStars =  2096 \tWatchers =  2096 \tForks =  449 \tOpen Issues =  7 \tPrimary Language =  Python \tRepo Languages = {'Python': 100.0} \tRepo Score 75.61248\n",
      "==========\n",
      "Repo Name =  Practical_RL \tDescription A course in reinforcement learning in the wild \tStars =  2084 \tWatchers =  2084 \tForks =  508 \tOpen Issues =  11 \tPrimary Language =  Jupyter Notebook \tRepo Languages = {'Jupyter Notebook': 88.82, 'Python': 11.03, 'Shell': 0.15} \tRepo Score 23.919073\n",
      "==========\n",
      "Repo Name =  deep-learning-book \tDescription Repository for \"Introduction to Artificial Neural Networks and Deep Learning: A Practical Guide with Applications in Python\" \tStars =  2079 \tWatchers =  2079 \tForks =  482 \tOpen Issues =  1 \tPrimary Language =  Jupyter Notebook \tRepo Languages = {'Jupyter Notebook': 99.21, 'Python': 0.79} \tRepo Score 32.123672\n",
      "==========\n",
      "Repo Name =  TensorFlow-and-DeepLearning-Tutorial \tDescription TensorFlow & Deep Learning Tutorial \tStars =  2077 \tWatchers =  2077 \tForks =  562 \tOpen Issues =  2 \tPrimary Language =  Python \tRepo Languages = {'Python': 91.28, 'Jupyter Notebook': 8.38, 'JavaScript': 0.34} \tRepo Score 79.39401\n",
      "==========\n",
      "Repo Name =  Automatic_Speech_Recognition \tDescription End-to-end Automatic Speech Recognition for Madarian and English in Tensorflow  \tStars =  2077 \tWatchers =  2077 \tForks =  364 \tOpen Issues =  54 \tPrimary Language =  Python \tRepo Languages = {'Python': 99.01, 'Shell': 0.99} \tRepo Score 46.772797\n",
      "==========\n",
      "Repo Name =  deep-learning-keras-tensorflow \tDescription Introduction to Deep Neural Networks with Keras and Tensorflow \tStars =  2053 \tWatchers =  2053 \tForks =  897 \tOpen Issues =  11 \tPrimary Language =  Jupyter Notebook \tRepo Languages = {'Jupyter Notebook': 99.71, 'Python': 0.29} \tRepo Score 80.86401\n",
      "==========\n",
      "Repo Name =  char-rnn-tensorflow \tDescription  Multi-layer Recurrent Neural Networks (LSTM, RNN) for character-level language models in Python using Tensorflow  \tStars =  2051 \tWatchers =  2051 \tForks =  812 \tOpen Issues =  44 \tPrimary Language =  Python \tRepo Languages = {'Python': 100.0} \tRepo Score 80.12744\n",
      "==========\n",
      "Repo Name =  dnc \tDescription A TensorFlow implementation of the Differentiable Neural Computer. \tStars =  2000 \tWatchers =  2000 \tForks =  345 \tOpen Issues =  5 \tPrimary Language =  Python \tRepo Languages = {'Python': 100.0} \tRepo Score 57.220013\n",
      "==========\n",
      "Repo Name =  tensorflow-tutorial \tDescription Practical tutorials and labs for TensorFlow used by Nvidia, FFN, CNN, RNN, Kaggle, AE \tStars =  1918 \tWatchers =  1918 \tForks =  450 \tOpen Issues =  2 \tPrimary Language =  Jupyter Notebook \tRepo Languages = {'Jupyter Notebook': 92.87, 'Python': 7.13} \tRepo Score 79.94607\n",
      "==========\n",
      "Repo Name =  SSD-Tensorflow \tDescription Single Shot MultiBox Detector in TensorFlow \tStars =  1897 \tWatchers =  1897 \tForks =  870 \tOpen Issues =  181 \tPrimary Language =  Jupyter Notebook \tRepo Languages = {'Jupyter Notebook': 74.42, 'Python': 25.58} \tRepo Score 85.08404\n",
      "==========\n",
      "Repo Name =  DeepQA \tDescription My tensorflow implementation of \"A neural conversational model\", a Deep learning based chatbot \tStars =  1887 \tWatchers =  1887 \tForks =  851 \tOpen Issues =  80 \tPrimary Language =  Python \tRepo Languages = {'Python': 56.99, 'CSS': 31.96, 'JavaScript': 8.85, 'HTML': 1.76, 'Shell': 0.44} \tRepo Score 54.59193\n",
      "==========\n",
      "Repo Name =  tensorboard \tDescription TensorFlow's Visualization Toolkit \tStars =  1878 \tWatchers =  1878 \tForks =  434 \tOpen Issues =  219 \tPrimary Language =  Python \tRepo Languages = {'Python': 42.42, 'HTML': 29.17, 'TypeScript': 27.49, 'Java': 0.77, 'Shell': 0.1, 'JavaScript': 0.04} \tRepo Score 77.23842\n",
      "==========\n",
      "Repo Name =  TensorFlowSharp \tDescription TensorFlow API for .NET languages \tStars =  1860 \tWatchers =  1860 \tForks =  316 \tOpen Issues =  100 \tPrimary Language =  C# \tRepo Languages = {'C#': 99.62, 'F#': 0.24, 'Perl': 0.11, 'Makefile': 0.03} \tRepo Score 72.802765\n",
      "==========\n",
      "Repo Name =  kcws \tDescription Deep Learning Chinese Word Segment  \tStars =  1817 \tWatchers =  1817 \tForks =  638 \tOpen Issues =  37 \tPrimary Language =  C++ \tRepo Languages = {'C++': 60.42, 'Python': 37.01, 'Shell': 1.75, 'HTML': 0.81} \tRepo Score 48.16989\n",
      "==========\n",
      "Repo Name =  DeepPavlov \tDescription An open source library for deep learning end-to-end dialog systems and chatbots. \tStars =  1816 \tWatchers =  1816 \tForks =  249 \tOpen Issues =  18 \tPrimary Language =  Python \tRepo Languages = {'Python': 94.2, 'Jupyter Notebook': 5.8} \tRepo Score 18.3009\n",
      "==========\n",
      "Repo Name =  Tensorflow-Tutorial \tDescription Tensorflow tutorial from basic to hard \tStars =  1773 \tWatchers =  1773 \tForks =  852 \tOpen Issues =  1 \tPrimary Language =  Python \tRepo Languages = {'Python': 100.0} \tRepo Score 84.83666\n",
      "==========\n",
      "Repo Name =  MMdnn \tDescription MMdnn is a set of tools to help users inter-operate among different deep learning frameworks. E.g. model conversion and visualization. Convert models between Caffe, Keras, MXNet, Tensorflow, CNTK, PyTorch Onnx and CoreML. \tStars =  1750 \tWatchers =  1750 \tForks =  334 \tOpen Issues =  50 \tPrimary Language =  Python \tRepo Languages = {'Python': 93.46, 'JavaScript': 2.89, 'TypeScript': 2.34, 'CSS': 0.97, 'HTML': 0.34} \tRepo Score 25.728134\n",
      "==========\n",
      "Repo Name =  neural-style-tf \tDescription TensorFlow (Python API) implementation of Neural Style \tStars =  1737 \tWatchers =  1737 \tForks =  429 \tOpen Issues =  24 \tPrimary Language =  Python \tRepo Languages = {'Python': 75.73, 'Shell': 14.36, 'C++': 9.91} \tRepo Score 66.17234\n",
      "==========\n",
      "Repo Name =  tensorflow_poems \tDescription 中文古诗自动作诗机器人，屌炸天，基于tensorflow1.4 api，正在积极维护升级中，快star，保持更新！ \tStars =  1736 \tWatchers =  1736 \tForks =  496 \tOpen Issues =  23 \tPrimary Language =  Python \tRepo Languages = {'Python': 100.0} \tRepo Score 80.2575\n",
      "==========\n",
      "Repo Name =  subpixel \tDescription subpixel: A subpixel convnet for super resolution with Tensorflow \tStars =  1733 \tWatchers =  1733 \tForks =  218 \tOpen Issues =  35 \tPrimary Language =  Jupyter Notebook \tRepo Languages = {'Jupyter Notebook': 61.49, 'Python': 38.51} \tRepo Score 54.700527\n",
      "==========\n",
      "Repo Name =  tensorflow-on-raspberry-pi \tDescription TensorFlow for Raspberry Pi \tStars =  1725 \tWatchers =  1725 \tForks =  424 \tOpen Issues =  66 \tPrimary Language =  Python \tRepo Languages = {'Python': 100.0} \tRepo Score 76.66131\n",
      "==========\n",
      "Repo Name =  Deep-Learning-21-Examples \tDescription 《21个项目玩转深度学习———基于TensorFlow的实践详解》配套代码 \tStars =  1708 \tWatchers =  1708 \tForks =  495 \tOpen Issues =  6 \tPrimary Language =  Python \tRepo Languages = {'Python': 91.56, 'Jupyter Notebook': 2.34, 'JavaScript': 2.11, 'HTML': 1.59, 'Shell': 1.11, 'Matlab': 0.67, 'CSS': 0.44, 'HCL': 0.15, 'Makefile': 0.03} \tRepo Score 34.34296\n",
      "==========\n",
      "Repo Name =  tf-faster-rcnn \tDescription Tensorflow Faster RCNN for Object Detection \tStars =  1701 \tWatchers =  1701 \tForks =  766 \tOpen Issues =  99 \tPrimary Language =  Python \tRepo Languages = {'Python': 93.1, 'Shell': 3.02, 'Cuda': 2.36, 'Matlab': 0.85, 'Roff': 0.56, 'C++': 0.07, 'Makefile': 0.04} \tRepo Score 69.77499\n",
      "==========\n"
     ]
    },
    {
     "name": "stdout",
     "output_type": "stream",
     "text": [
      "Repo Name =  Reinforcement-learning-with-tensorflow \tDescription Simple Reinforcement learning tutorials \tStars =  1679 \tWatchers =  1679 \tForks =  1116 \tOpen Issues =  1 \tPrimary Language =  Python \tRepo Languages = {'Python': 100.0} \tRepo Score 81.61665\n",
      "==========\n",
      "Repo Name =  PRNet \tDescription The source code of 'Joint 3D Face Reconstruction and Dense Alignment with Position Map Regression Network'. \tStars =  1664 \tWatchers =  1664 \tForks =  167 \tOpen Issues =  17 \tPrimary Language =  Python \tRepo Languages = {'Python': 100.0} \tRepo Score 20.935368\n",
      "==========\n",
      "Repo Name =  text-to-image \tDescription Text to image synthesis using thought vectors \tStars =  1659 \tWatchers =  1659 \tForks =  280 \tOpen Issues =  29 \tPrimary Language =  Python \tRepo Languages = {'Python': 100.0} \tRepo Score 48.809166\n",
      "==========\n",
      "Repo Name =  tensorforce \tDescription TensorForce: A TensorFlow library for applied reinforcement learning \tStars =  1654 \tWatchers =  1654 \tForks =  292 \tOpen Issues =  43 \tPrimary Language =  Python \tRepo Languages = {'Python': 100.0} \tRepo Score 55.748234\n",
      "==========\n",
      "Repo Name =  Tensorflow-101 \tDescription TensorFlow Tutorials \tStars =  1643 \tWatchers =  1643 \tForks =  525 \tOpen Issues =  13 \tPrimary Language =  Jupyter Notebook \tRepo Languages = {'Jupyter Notebook': 99.96, 'Python': 0.04} \tRepo Score 84.45193\n",
      "==========\n",
      "Repo Name =  fold \tDescription Deep learning with dynamic computation graphs in TensorFlow \tStars =  1621 \tWatchers =  1621 \tForks =  234 \tOpen Issues =  52 \tPrimary Language =  Python \tRepo Languages = {'Python': 51.25, 'C++': 41.92, 'Jupyter Notebook': 5.64, 'Shell': 1.01, 'C': 0.19} \tRepo Score 54.26764\n",
      "==========\n",
      "Repo Name =  DQN-tensorflow \tDescription Tensorflow implementation of Human-Level Control through Deep Reinforcement Learning \tStars =  1614 \tWatchers =  1614 \tForks =  525 \tOpen Issues =  27 \tPrimary Language =  Python \tRepo Languages = {'Python': 100.0} \tRepo Score 80.54394\n",
      "==========\n",
      "Repo Name =  luminoth \tDescription Deep Learning toolkit for Computer Vision \tStars =  1593 \tWatchers =  1593 \tForks =  183 \tOpen Issues =  30 \tPrimary Language =  Python \tRepo Languages = {'Python': 98.04, 'JavaScript': 0.86, 'CSS': 0.75, 'HTML': 0.36} \tRepo Score 29.33998\n",
      "==========\n",
      "Repo Name =  tensorflow-speech-recognition \tDescription 🎙Speech recognition using the tensorflow deep learning framework, sequence-to-sequence neural networks \tStars =  1591 \tWatchers =  1591 \tForks =  487 \tOpen Issues =  22 \tPrimary Language =  Python \tRepo Languages = {'Python': 98.01, 'Swift': 1.99} \tRepo Score 75.437065\n",
      "==========\n",
      "Repo Name =  deepdetect \tDescription Deep Learning API and Server in C++11 with Python bindings and support for Caffe, Tensorflow, XGBoost and TSNE \tStars =  1563 \tWatchers =  1563 \tForks =  377 \tOpen Issues =  56 \tPrimary Language =  C++ \tRepo Languages = {'C++': 75.68, 'Shell': 18.42, 'CMake': 2.98, 'Python': 1.52, 'C': 1.1, 'M4': 0.31} \tRepo Score 40.21905\n",
      "==========\n",
      "Repo Name =  deep-voice-conversion \tDescription Deep neural networks for voice conversion (voice style transfer) in Tensorflow \tStars =  1531 \tWatchers =  1531 \tForks =  288 \tOpen Issues =  29 \tPrimary Language =  Python \tRepo Languages = {'Python': 97.14, 'Shell': 2.86} \tRepo Score 45.298645\n",
      "==========\n",
      "Repo Name =  Bender \tDescription Easily craft fast Neural Networks on iOS! Use TensorFlow models. Metal under the hood. \tStars =  1521 \tWatchers =  1521 \tForks =  76 \tOpen Issues =  18 \tPrimary Language =  Swift \tRepo Languages = {'Swift': 89.3, 'Metal': 8.39, 'Objective-C': 2.07, 'Ruby': 0.24} \tRepo Score 39.268227\n",
      "==========\n",
      "Repo Name =  tensorflow \tDescription 图解tensorflow 源码 \tStars =  1505 \tWatchers =  1505 \tForks =  477 \tOpen Issues =  1 \tPrimary Language =  None \tRepo Languages = {} \tRepo Score 93.07689\n",
      "==========\n",
      "Repo Name =  keras-vis \tDescription Neural network visualization toolkit for keras \tStars =  1499 \tWatchers =  1499 \tForks =  238 \tOpen Issues =  59 \tPrimary Language =  Python \tRepo Languages = {'Python': 100.0} \tRepo Score 36.436695\n",
      "==========\n",
      "Repo Name =  sketch-code \tDescription Keras model to generate HTML code from hand-drawn website mockups. Implements an image captioning architecture to drawn source images. \tStars =  1480 \tWatchers =  1480 \tForks =  191 \tOpen Issues =  3 \tPrimary Language =  Python \tRepo Languages = {'Python': 99.07, 'Shell': 0.93} \tRepo Score 41.677753\n",
      "==========\n",
      "Repo Name =  tensorflow-mnist-tutorial \tDescription Sample code for \"Tensorflow and deep learning, without a PhD\" presentation and code lab. \tStars =  1478 \tWatchers =  1478 \tForks =  756 \tOpen Issues =  0 \tPrimary Language =  None \tRepo Languages = {} \tRepo Score 78.554695\n",
      "==========\n",
      "Repo Name =  DeepLearn \tDescription Implementation of research papers on Deep Learning+ NLP+ CV in Python using Keras, Tensorflow and Scikit Learn. \tStars =  1476 \tWatchers =  1476 \tForks =  260 \tOpen Issues =  9 \tPrimary Language =  Python \tRepo Languages = {'Python': 100.0} \tRepo Score 38.507362\n",
      "==========\n",
      "Repo Name =  tfjs-examples \tDescription Examples built with TensorFlow.js \tStars =  1457 \tWatchers =  1457 \tForks =  283 \tOpen Issues =  0 \tPrimary Language =  JavaScript \tRepo Languages = {'JavaScript': 59.15, 'Python': 14.72, 'HTML': 11.07, 'TypeScript': 7.57, 'Shell': 5.05, 'CSS': 1.83, 'Vue': 0.62} \tRepo Score 68.70542\n",
      "==========\n",
      "Repo Name =  Faster-RCNN_TF \tDescription Faster-RCNN in Tensorflow \tStars =  1445 \tWatchers =  1445 \tForks =  756 \tOpen Issues =  234 \tPrimary Language =  Python \tRepo Languages = {'Python': 90.77, 'C++': 7.47, 'Cuda': 1.13, 'Shell': 0.62, 'Makefile': 0.02} \tRepo Score 80.49759\n",
      "==========\n"
     ]
    }
   ],
   "source": [
    "# GitHub returns information of only 30 repositories with every request\n",
    "\n",
    "# The Search API Endpoint only allows upto 1000 results, hence the range has been set to 35\n",
    "counter = 0\n",
    "for page in range(1, pages+1):\n",
    "    \n",
    "    # Building the Search API URL\n",
    "    search_final_url = base_api_url + 'search/repositories?q=' + \\\n",
    "        query + '&page='+ str(page) + '&sort=' + sort_type  + '&' + token\n",
    "\n",
    "    # try-except block just incase you set up the range in the above for loop beyond 35\n",
    "    try:\n",
    "        response = requests.get(search_final_url, headers=additional_headers).json()\n",
    "    except:\n",
    "        print(\"Issue with GitHub API, Check your token\")\n",
    "\n",
    "    # Parsing through the response of the search query\n",
    "    for item in response['items']:\n",
    "        if counter <= no_of_repo:\n",
    "            # Append to the CSV file\n",
    "            with open(filename, 'a', newline='') as csvfile:\n",
    "                write_to_csv = csv.writer(csvfile, delimiter='\\t')\n",
    "                repo_name = item['name']\n",
    "                repo_description = item['description']\n",
    "                repo_stars = item['stargazers_count']\n",
    "                repo_watchers = item['watchers_count']\n",
    "                repo_forks = item['forks_count']\n",
    "                repo_issues_count = item['open_issues_count']\n",
    "                repo_main_language = item['language']\n",
    "                repo_clone_url = item['clone_url']\n",
    "                repo_topics = item['topics']\n",
    "                repo_license = None\n",
    "                # repo_score is the relevancy score of a repository to the search query\n",
    "                # Reference - https://developer.github.com/v3/search/#ranking-search-results\n",
    "                repo_score = item['score']\n",
    "\n",
    "                # Many Repositories don't have a license, this is to filter them out\n",
    "                if item['license']:\n",
    "                    repo_license = item['license']['name']\n",
    "                else:\n",
    "                    repo_license = \"NO LICENSE\"\n",
    "\n",
    "                # Just incase, you face any issue with GitHub API Rate Limiting, use the sleep function as a workaround\n",
    "                # Reference - https://developer.github.com/v3/search/#rate-limit\n",
    "\n",
    "                # time.sleep(10)\n",
    "\n",
    "                # Languages URL to access all the languages present in the repository\n",
    "                language_url = item['url'] + '/languages?' + token\n",
    "                language_response = requests.get(language_url).json()\n",
    "\n",
    "                repo_languages = {}\n",
    "\n",
    "                # Calculation for the percentage of all the languages present in the repository\n",
    "                count_value = sum([value for value in language_response.values()])\n",
    "                for key, value in language_response.items():\n",
    "                    key_value = round((value / count_value) * 100, 2)\n",
    "                    repo_languages[key] = key_value\n",
    "                print(\"Repo Name = \", repo_name, \"\\tDescription\", repo_description, \"\\tStars = \", repo_stars, \"\\tWatchers = \", repo_watchers, \"\\tForks = \", repo_forks,\n",
    "                      \"\\tOpen Issues = \", repo_issues_count, \"\\tPrimary Language = \", repo_main_language, \"\\tRepo Languages =\", repo_languages, '\\tRepo Score', repo_score)\n",
    "\n",
    "                # Write as a row to the CSV file\n",
    "                write_to_csv.writerow([repo_name, repo_description, repo_topics, repo_stars, repo_watchers, repo_forks,\n",
    "                                       repo_license, repo_issues_count, repo_score, repo_clone_url, repo_main_language, repo_languages])\n",
    "                print('==========')\n",
    "        counter+=1\n",
    "            \n",
    "              \n",
    "          "
   ]
  },
  {
   "cell_type": "code",
   "execution_count": 21,
   "metadata": {
    "ExecuteTime": {
     "end_time": "2018-06-02T18:05:43.112805Z",
     "start_time": "2018-06-02T18:05:41.272097Z"
    }
   },
   "outputs": [],
   "source": [
    "import pandas as pd\n",
    "data = pd.read_csv(\"tensorflow.csv\", delimiter=\"\\t\", header= None)\n",
    "data.columns =['repository_name', 'repository_description', 'repository_topics', 'repository_stars', 'repository_watchers', 'repository_forks','repository_license',\n",
    "              'repository_issues_count', 'repository_score', 'repository_clone_url', 'repository_main_language', 'repository_languages']\n"
   ]
  },
  {
   "cell_type": "code",
   "execution_count": 23,
   "metadata": {},
   "outputs": [
    {
     "name": "stdout",
     "output_type": "stream",
     "text": [
      "<class 'pandas.core.frame.DataFrame'>\n",
      "RangeIndex: 101 entries, 0 to 100\n",
      "Data columns (total 11 columns):\n",
      "repository_name             101 non-null object\n",
      "repository_description      99 non-null object\n",
      "repository_stars            101 non-null int64\n",
      "repository_watchers         101 non-null int64\n",
      "repository_forks            101 non-null int64\n",
      "repository_license          101 non-null object\n",
      "repository_issues_count     101 non-null int64\n",
      "repository_score            101 non-null float64\n",
      "repository_clone_url        101 non-null object\n",
      "repository_main_language    95 non-null object\n",
      "repository_languages        101 non-null object\n",
      "dtypes: float64(1), int64(4), object(6)\n",
      "memory usage: 8.8+ KB\n"
     ]
    }
   ],
   "source": [
    "data.info()"
   ]
  },
  {
   "cell_type": "code",
   "execution_count": 37,
   "metadata": {},
   "outputs": [],
   "source": [
    "r=requests.get(\"https://api.github.com/\", headers={\"Accept\":\"application/vnd.github.v3+json\"}).json()"
   ]
  },
  {
   "cell_type": "code",
   "execution_count": 39,
   "metadata": {},
   "outputs": [
    {
     "data": {
      "text/plain": [
       "{'authorizations_url': 'https://api.github.com/authorizations',\n",
       " 'code_search_url': 'https://api.github.com/search/code?q={query}{&page,per_page,sort,order}',\n",
       " 'commit_search_url': 'https://api.github.com/search/commits?q={query}{&page,per_page,sort,order}',\n",
       " 'current_user_authorizations_html_url': 'https://github.com/settings/connections/applications{/client_id}',\n",
       " 'current_user_repositories_url': 'https://api.github.com/user/repos{?type,page,per_page,sort}',\n",
       " 'current_user_url': 'https://api.github.com/user',\n",
       " 'emails_url': 'https://api.github.com/user/emails',\n",
       " 'emojis_url': 'https://api.github.com/emojis',\n",
       " 'events_url': 'https://api.github.com/events',\n",
       " 'feeds_url': 'https://api.github.com/feeds',\n",
       " 'followers_url': 'https://api.github.com/user/followers',\n",
       " 'following_url': 'https://api.github.com/user/following{/target}',\n",
       " 'gists_url': 'https://api.github.com/gists{/gist_id}',\n",
       " 'hub_url': 'https://api.github.com/hub',\n",
       " 'issue_search_url': 'https://api.github.com/search/issues?q={query}{&page,per_page,sort,order}',\n",
       " 'issues_url': 'https://api.github.com/issues',\n",
       " 'keys_url': 'https://api.github.com/user/keys',\n",
       " 'notifications_url': 'https://api.github.com/notifications',\n",
       " 'organization_repositories_url': 'https://api.github.com/orgs/{org}/repos{?type,page,per_page,sort}',\n",
       " 'organization_url': 'https://api.github.com/orgs/{org}',\n",
       " 'public_gists_url': 'https://api.github.com/gists/public',\n",
       " 'rate_limit_url': 'https://api.github.com/rate_limit',\n",
       " 'repository_search_url': 'https://api.github.com/search/repositories?q={query}{&page,per_page,sort,order}',\n",
       " 'repository_url': 'https://api.github.com/repos/{owner}/{repo}',\n",
       " 'starred_gists_url': 'https://api.github.com/gists/starred',\n",
       " 'starred_url': 'https://api.github.com/user/starred{/owner}{/repo}',\n",
       " 'team_url': 'https://api.github.com/teams',\n",
       " 'user_organizations_url': 'https://api.github.com/user/orgs',\n",
       " 'user_repositories_url': 'https://api.github.com/users/{user}/repos{?type,page,per_page,sort}',\n",
       " 'user_search_url': 'https://api.github.com/search/users?q={query}{&page,per_page,sort,order}',\n",
       " 'user_url': 'https://api.github.com/users/{user}'}"
      ]
     },
     "execution_count": 39,
     "metadata": {},
     "output_type": "execute_result"
    }
   ],
   "source": [
    "r"
   ]
  },
  {
   "cell_type": "code",
   "execution_count": 32,
   "metadata": {},
   "outputs": [],
   "source": [
    "import pandas as pd\n",
    "data = pd.DataFrame(columns=['repository_name', 'repository_description', 'repository_topics', 'repository_stars', 'repository_watchers', 'repository_forks','repository_license',\n",
    "              'repository_issues_count', 'repository_score', 'repository_clone_url', 'repository_main_language', 'repository_languages'])"
   ]
  },
  {
   "cell_type": "code",
   "execution_count": 33,
   "metadata": {},
   "outputs": [
    {
     "data": {
      "text/html": [
       "<div>\n",
       "<style scoped>\n",
       "    .dataframe tbody tr th:only-of-type {\n",
       "        vertical-align: middle;\n",
       "    }\n",
       "\n",
       "    .dataframe tbody tr th {\n",
       "        vertical-align: top;\n",
       "    }\n",
       "\n",
       "    .dataframe thead th {\n",
       "        text-align: right;\n",
       "    }\n",
       "</style>\n",
       "<table border=\"1\" class=\"dataframe\">\n",
       "  <thead>\n",
       "    <tr style=\"text-align: right;\">\n",
       "      <th></th>\n",
       "      <th>repository_name</th>\n",
       "      <th>repository_description</th>\n",
       "      <th>repository_topics</th>\n",
       "      <th>repository_stars</th>\n",
       "      <th>repository_watchers</th>\n",
       "      <th>repository_forks</th>\n",
       "      <th>repository_license</th>\n",
       "      <th>repository_issues_count</th>\n",
       "      <th>repository_score</th>\n",
       "      <th>repository_clone_url</th>\n",
       "      <th>repository_main_language</th>\n",
       "      <th>repository_languages</th>\n",
       "    </tr>\n",
       "  </thead>\n",
       "  <tbody>\n",
       "  </tbody>\n",
       "</table>\n",
       "</div>"
      ],
      "text/plain": [
       "Empty DataFrame\n",
       "Columns: [repository_name, repository_description, repository_topics, repository_stars, repository_watchers, repository_forks, repository_license, repository_issues_count, repository_score, repository_clone_url, repository_main_language, repository_languages]\n",
       "Index: []"
      ]
     },
     "execution_count": 33,
     "metadata": {},
     "output_type": "execute_result"
    }
   ],
   "source": [
    "data"
   ]
  },
  {
   "cell_type": "code",
   "execution_count": null,
   "metadata": {},
   "outputs": [],
   "source": []
  }
 ],
 "metadata": {
  "kernelspec": {
   "display_name": "Python 3",
   "language": "python",
   "name": "python3"
  },
  "language_info": {
   "codemirror_mode": {
    "name": "ipython",
    "version": 3
   },
   "file_extension": ".py",
   "mimetype": "text/x-python",
   "name": "python",
   "nbconvert_exporter": "python",
   "pygments_lexer": "ipython3",
   "version": "3.6.4"
  },
  "notify_time": "5"
 },
 "nbformat": 4,
 "nbformat_minor": 2
}
